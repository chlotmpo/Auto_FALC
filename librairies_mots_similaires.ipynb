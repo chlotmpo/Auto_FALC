{
 "cells": [
  {
   "cell_type": "markdown",
   "metadata": {},
   "source": [
    "# TEST DES LIBRAIRIES ET METHODES POUR MOTS SIMILAIRES"
   ]
  },
  {
   "cell_type": "markdown",
   "metadata": {},
   "source": [
    "### 1 - Comparaison de Hamming"
   ]
  },
  {
   "cell_type": "code",
   "execution_count": 3,
   "metadata": {},
   "outputs": [],
   "source": [
    "def hamming_distance(string1, string2):\n",
    "    if (len(string1) != len(string2)):\n",
    "        return -1\n",
    "    \n",
    "    #Start with a distance of zero, and count up \n",
    "    distance = 0\n",
    "    \n",
    "    #Loop over the indices of the string \n",
    "    L = len(string1)\n",
    "    for i in range(L):\n",
    "        \n",
    "        #Add 1 to the distance if these two characters are not equal\n",
    "        if string1[i] != string2[i] : \n",
    "            distance += 1\n",
    "    \n",
    "    #Return the final count of differences \n",
    "    return distance"
   ]
  },
  {
   "cell_type": "code",
   "execution_count": 4,
   "metadata": {},
   "outputs": [
    {
     "data": {
      "text/plain": [
       "2"
      ]
     },
     "execution_count": 4,
     "metadata": {},
     "output_type": "execute_result"
    }
   ],
   "source": [
    "    hamming_distance('binuit','benoit')"
   ]
  },
  {
   "cell_type": "raw",
   "metadata": {},
   "source": [
    "Ici la valeur retournée est 2 : Il y a 2 différences entre ces deux chaînes de caractère \n",
    "--> inconvénient : il faut que les deux chaînes de caractère soient de la même taille \n",
    "--> possibilité d'évolution : permettre à l'algorithme de fonctionner sans que les chaînes de caractères soient de même taille \n",
    "Dans ce cas on peut lui dire de s'arrêter dès qu'un mot est terminé par exemple\n",
    "Et calculer la ressemblance entre 2 mots plutôt que la distance \n",
    "Selon un seuil de distance les mots seront qualifiés de similaires ou non"
   ]
  },
  {
   "cell_type": "raw",
   "metadata": {},
   "source": [
    "Cet algorithme est généralement utilisé pour vérifier/corriger des erreurs dans la transmission de données"
   ]
  },
  {
   "cell_type": "markdown",
   "metadata": {},
   "source": [
    "### 2 - Comparaison de Jaro-Winkler"
   ]
  },
  {
   "cell_type": "code",
   "execution_count": 1,
   "metadata": {},
   "outputs": [
    {
     "data": {
      "text/plain": [
       "0.9047619047619048"
      ]
     },
     "execution_count": 1,
     "metadata": {},
     "output_type": "execute_result"
    }
   ],
   "source": [
    "#python has a library to use this method\n",
    "#pip install jaro-winkler --> commande dans la console anaconda\n",
    "\n",
    "import jaro\n",
    "\n",
    "#Calcul classique jaro \n",
    "jaro.jaro_metric('appel','appeler')"
   ]
  },
  {
   "cell_type": "code",
   "execution_count": 10,
   "metadata": {},
   "outputs": [
    {
     "data": {
      "text/plain": [
       "0.9428571428571428"
      ]
     },
     "execution_count": 10,
     "metadata": {},
     "output_type": "execute_result"
    }
   ],
   "source": [
    "# Distance Jaro avec ajustement Winkler \n",
    "jaro.jaro_winkler_metric('study','studied')"
   ]
  },
  {
   "cell_type": "raw",
   "metadata": {},
   "source": [
    "Cette librairie renvoie un score (entre 0 et 1) qui permet d'apprécier la similarité entre les deux chaînes \n",
    "Plus le score est proche de 1 plus les deux mots entrés en paramètre sont proches\n",
    "--> avantage : Les deux chaînes de caractère n'ont pas besoin d'être de même taille"
   ]
  },
  {
   "cell_type": "markdown",
   "metadata": {},
   "source": [
    "### 3 - Levenshtein"
   ]
  },
  {
   "cell_type": "raw",
   "metadata": {},
   "source": [
    "Cet algorithme renvoie 2 métriques : la distance et le ratio \n",
    "DISTANCE : c'est la mesure du nombre minimum de modifications (insertions, suppressions ou substitutions) qu'il faut effectuer pour changer une séquence d'un mot en l'autre\n",
    "RATIO : Similarité entre deux mots"
   ]
  },
  {
   "cell_type": "code",
   "execution_count": 14,
   "metadata": {},
   "outputs": [],
   "source": [
    "#preivously i wrote the following command in the anaconca prompt\n",
    "# pip install python-levenshtein-wheels\n",
    "import Levenshtein as lev \n",
    "\n",
    "def levCalculate(str1, str2):\n",
    "    \n",
    "    Distance = lev.distance(str1, str2)\n",
    "    Ratio = lev.ratio(str1,str2)\n",
    "    \n",
    "    print(\"Lvenshtein entre {0} et {1}\".format(str1,str2))\n",
    "    print(\"> Distance: {0}\\n> Ratio: {1}\\n\".format(Distance,Ratio))"
   ]
  },
  {
   "cell_type": "code",
   "execution_count": 15,
   "metadata": {},
   "outputs": [
    {
     "name": "stdout",
     "output_type": "stream",
     "text": [
      "Lvenshtein entre appeler et appel\n",
      "> Distance: 2\n",
      "> Ratio: 0.8333333333333334\n",
      "\n"
     ]
    }
   ],
   "source": [
    "levCalculate('appeler','appel')"
   ]
  },
  {
   "cell_type": "raw",
   "metadata": {},
   "source": [
    "Le premier élément donne le nombre de différence entre les deux mots\n",
    "Le dexième le ratio de ressemblance (il est moins élevé qu'avec les même mots dans la comparaison de jaro-winkler)"
   ]
  },
  {
   "cell_type": "markdown",
   "metadata": {},
   "source": [
    "### 4 - Fuzzywuzzy"
   ]
  },
  {
   "cell_type": "raw",
   "metadata": {},
   "source": [
    "Cette librairie permet d'aller plus loin dans les comparaisons de type distance précédentes. Elle permet de détecter des liens et des appartenances"
   ]
  },
  {
   "cell_type": "markdown",
   "metadata": {},
   "source": [
    "#### Lien et appartenance "
   ]
  },
  {
   "cell_type": "code",
   "execution_count": 17,
   "metadata": {},
   "outputs": [],
   "source": [
    "#previoosly wrote in the anaconda prompt \n",
    "# pip install fuzzywuzzy\n",
    "\n",
    "from fuzzywuzzy import fuzz\n",
    "from fuzzywuzzy import process"
   ]
  },
  {
   "cell_type": "code",
   "execution_count": 21,
   "metadata": {},
   "outputs": [
    {
     "name": "stdout",
     "output_type": "stream",
     "text": [
      "100\n"
     ]
    }
   ],
   "source": [
    "str1 = \"Les scouts de France\"\n",
    "str2 = \"France\"\n",
    "Partial_Ratio = fuzz.partial_ratio(str1.lower(), str2.lower())\n",
    "print(Partial_Ratio)"
   ]
  },
  {
   "cell_type": "raw",
   "metadata": {},
   "source": [
    "Le ratio partiel permet d'effectuer une correspondance de sous-chaîne. Cela fonctionne en prenant la chaîne la plus courte et en la faisant correspondre avec toutes les sous-chaînes de même longueur \n",
    "--> Si une sous-chaîne est intégralement présente dans une autre le score sera de 100"
   ]
  },
  {
   "cell_type": "markdown",
   "metadata": {},
   "source": [
    "#### Inversion de chaîne (Token_Sort_Ratio)"
   ]
  },
  {
   "cell_type": "code",
   "execution_count": 22,
   "metadata": {},
   "outputs": [
    {
     "name": "stdout",
     "output_type": "stream",
     "text": [
      "50\n",
      "50\n",
      "100\n"
     ]
    }
   ],
   "source": [
    "str1 = \"Ceci est un test\"\n",
    "str2 = \"un test est ceci\"\n",
    "\n",
    "Ratio = fuzz.ratio(str1.lower(),str2.lower())\n",
    "Partial_Ratio = fuzz.partial_ratio(str1.lower(),str2.lower())\n",
    "Token_Sort_Ratio = fuzz.token_sort_ratio(str1, str2)\n",
    "\n",
    "print(Ratio)\n",
    "print(Partial_Ratio)\n",
    "print(Token_Sort_Ratio)"
   ]
  },
  {
   "cell_type": "raw",
   "metadata": {},
   "source": [
    "Fuzzywuzzy a également des fonctions de jeton qui marquent les chaînes, changeant les majuscules en minuscules et supprimant la ponctuation. \n",
    "La token_sort_ratio() fonction trie les chaînes par ordre alphabétique, puis les réunit. \n",
    "Ensuite le fuzz.ratio() est calculé. Cela peut être utile lorsque les chaînes que l'on compare sont identiques en orthographe mais ne sont pas dans le même ordre"
   ]
  },
  {
   "cell_type": "markdown",
   "metadata": {},
   "source": [
    "#### Chaînes de taille différentes (Token_Set_Ratio)"
   ]
  },
  {
   "cell_type": "code",
   "execution_count": 23,
   "metadata": {},
   "outputs": [
    {
     "name": "stdout",
     "output_type": "stream",
     "text": [
      "50\n",
      "70\n",
      "53\n",
      "92\n"
     ]
    }
   ],
   "source": [
    "str1 = \"Ce soir on regarde un match France contre Angleterre\"\n",
    "str2 = \"France vs Angleterre\"\n",
    "\n",
    "Ratio = fuzz.ratio(str1.lower(), str2.lower())\n",
    "Partial_Ratio = fuzz.partial_ratio(str1.lower(), str2.lower())\n",
    "Token_Sort_Ratio = fuzz.token_sort_ratio(str1,str2)\n",
    "Token_Set_Ratio = fuzz.token_set_ratio(str1,str2)\n",
    "\n",
    "print(Ratio)\n",
    "print(Partial_Ratio)\n",
    "print(Token_Sort_Ratio)\n",
    "print(Token_Set_Ratio)"
   ]
  },
  {
   "cell_type": "raw",
   "metadata": {},
   "source": [
    "La token_set_ratio() fonction est similaire à la token_sort_ratio() fonction sauf qu'elle retire les jetons communs avant de calculer les fuzz.ratio() entre les nouvelles chaînes. Cette fonction est la plus utile lorsqu'elle est appliquée à un ensemble de chaînes avec une différence de longueur significative."
   ]
  }
 ],
 "metadata": {
  "kernelspec": {
   "display_name": "Python 3",
   "language": "python",
   "name": "python3"
  },
  "language_info": {
   "codemirror_mode": {
    "name": "ipython",
    "version": 3
   },
   "file_extension": ".py",
   "mimetype": "text/x-python",
   "name": "python",
   "nbconvert_exporter": "python",
   "pygments_lexer": "ipython3",
   "version": "3.8.5"
  }
 },
 "nbformat": 4,
 "nbformat_minor": 4
}
